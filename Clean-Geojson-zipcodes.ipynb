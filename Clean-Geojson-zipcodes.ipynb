{
 "cells": [
  {
   "cell_type": "code",
   "execution_count": null,
   "metadata": {},
   "outputs": [],
   "source": [
    "# load GeoJSON\n",
    "\n",
    "with open('file.geojson', 'r') as jsonFile:\n",
    "    data = json.load(jsonFile)\n",
    "tmp = data\n",
    "\n",
    "# remove ZIP coes not in our dataset\n",
    "geozips = []\n",
    "for i in range(len(tmp['features'])):          # UPDATE list(geo_agg)     \n",
    "    if tmp['features'][i][properties]['name'] in list(geo_agg['facility_zip'].unique()):\n",
    "        geozip.append(tmp['feature'][i]) \n",
    "\n",
    "# create new Json object\n",
    "\n"
   ]
  }
 ],
 "metadata": {
  "language_info": {
   "name": "python"
  },
  "orig_nbformat": 4
 },
 "nbformat": 4,
 "nbformat_minor": 2
}
