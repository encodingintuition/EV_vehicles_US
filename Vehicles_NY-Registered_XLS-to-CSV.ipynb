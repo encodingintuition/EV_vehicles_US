{
 "cells": [
  {
   "cell_type": "markdown",
   "metadata": {},
   "source": [
    "# Convert XLSX files to CSV "
   ]
  },
  {
   "cell_type": "markdown",
   "metadata": {},
   "source": [
    "### Imports"
   ]
  },
  {
   "cell_type": "code",
   "execution_count": 7,
   "metadata": {},
   "outputs": [],
   "source": [
    "# python 3.8.2\n",
    "import numpy as np\n",
    "import pandas as pd"
   ]
  },
  {
   "cell_type": "markdown",
   "metadata": {},
   "source": [
    "### Ingest data"
   ]
  },
  {
   "cell_type": "code",
   "execution_count": 8,
   "metadata": {},
   "outputs": [
    {
     "name": "stdout",
     "output_type": "stream",
     "text": [
      "ny_ev_registrations_public.xlsx\n"
     ]
    }
   ],
   "source": [
    "! ls ~/github/data-to-big-for-github/EV/\n"
   ]
  },
  {
   "cell_type": "code",
   "execution_count": 9,
   "metadata": {},
   "outputs": [],
   "source": [
    "df = pd.read_excel('~/github/data-to-big-for-github/EV/ny_ev_registrations_public.xlsx')"
   ]
  },
  {
   "cell_type": "code",
   "execution_count": 10,
   "metadata": {},
   "outputs": [
    {
     "data": {
      "text/plain": [
       "(663606, 9)"
      ]
     },
     "execution_count": 10,
     "metadata": {},
     "output_type": "execute_result"
    }
   ],
   "source": [
    "df.shape"
   ]
  },
  {
   "cell_type": "code",
   "execution_count": 11,
   "metadata": {},
   "outputs": [
    {
     "data": {
      "text/html": [
       "<div>\n",
       "<style scoped>\n",
       "    .dataframe tbody tr th:only-of-type {\n",
       "        vertical-align: middle;\n",
       "    }\n",
       "\n",
       "    .dataframe tbody tr th {\n",
       "        vertical-align: top;\n",
       "    }\n",
       "\n",
       "    .dataframe thead th {\n",
       "        text-align: right;\n",
       "    }\n",
       "</style>\n",
       "<table border=\"1\" class=\"dataframe\">\n",
       "  <thead>\n",
       "    <tr style=\"text-align: right;\">\n",
       "      <th></th>\n",
       "      <th>ZIP Code</th>\n",
       "      <th>Registration Valid Date</th>\n",
       "      <th>VIN Prefix</th>\n",
       "      <th>DMV ID</th>\n",
       "      <th>DMV Snapshot</th>\n",
       "      <th>VIN Model Year</th>\n",
       "      <th>Registration Expiration Date</th>\n",
       "      <th>State</th>\n",
       "      <th>Vehicle Name</th>\n",
       "    </tr>\n",
       "  </thead>\n",
       "  <tbody>\n",
       "    <tr>\n",
       "      <th>0</th>\n",
       "      <td>11782</td>\n",
       "      <td>2020-10-22</td>\n",
       "      <td>JTMAB3FV</td>\n",
       "      <td>60</td>\n",
       "      <td>NY DATA.NY.GOV (1/1/2021)</td>\n",
       "      <td>M</td>\n",
       "      <td>2022-10-21</td>\n",
       "      <td>NY</td>\n",
       "      <td>Toyota RAV4 Prime</td>\n",
       "    </tr>\n",
       "    <tr>\n",
       "      <th>1</th>\n",
       "      <td>14850</td>\n",
       "      <td>2020-10-19</td>\n",
       "      <td>JTMAB3FV</td>\n",
       "      <td>60</td>\n",
       "      <td>NY DATA.NY.GOV (1/1/2021)</td>\n",
       "      <td>M</td>\n",
       "      <td>2022-10-18</td>\n",
       "      <td>NY</td>\n",
       "      <td>Toyota RAV4 Prime</td>\n",
       "    </tr>\n",
       "    <tr>\n",
       "      <th>2</th>\n",
       "      <td>10566</td>\n",
       "      <td>2021-11-05</td>\n",
       "      <td>JTMAB3FV</td>\n",
       "      <td>60</td>\n",
       "      <td>NY DATA.NY.GOV (1/1/2021)</td>\n",
       "      <td>M</td>\n",
       "      <td>2023-12-13</td>\n",
       "      <td>NY</td>\n",
       "      <td>Toyota RAV4 Prime</td>\n",
       "    </tr>\n",
       "  </tbody>\n",
       "</table>\n",
       "</div>"
      ],
      "text/plain": [
       "   ZIP Code Registration Valid Date VIN Prefix  DMV ID  \\\n",
       "0     11782              2020-10-22   JTMAB3FV      60   \n",
       "1     14850              2020-10-19   JTMAB3FV      60   \n",
       "2     10566              2021-11-05   JTMAB3FV      60   \n",
       "\n",
       "                DMV Snapshot VIN Model Year Registration Expiration Date  \\\n",
       "0  NY DATA.NY.GOV (1/1/2021)              M                   2022-10-21   \n",
       "1  NY DATA.NY.GOV (1/1/2021)              M                   2022-10-18   \n",
       "2  NY DATA.NY.GOV (1/1/2021)              M                   2023-12-13   \n",
       "\n",
       "  State       Vehicle Name  \n",
       "0    NY  Toyota RAV4 Prime  \n",
       "1    NY  Toyota RAV4 Prime  \n",
       "2    NY  Toyota RAV4 Prime  "
      ]
     },
     "execution_count": 11,
     "metadata": {},
     "output_type": "execute_result"
    }
   ],
   "source": [
    "df.head(3)"
   ]
  },
  {
   "cell_type": "markdown",
   "metadata": {},
   "source": [
    "### Drop Columns"
   ]
  },
  {
   "cell_type": "code",
   "execution_count": 12,
   "metadata": {},
   "outputs": [
    {
     "ename": "SyntaxError",
     "evalue": "invalid syntax (<ipython-input-12-903e18e69a58>, line 2)",
     "output_type": "error",
     "traceback": [
      "\u001b[0;36m  File \u001b[0;32m\"<ipython-input-12-903e18e69a58>\"\u001b[0;36m, line \u001b[0;32m2\u001b[0m\n\u001b[0;31m    df = df.drop(['Registration Expiration Date'], axis =1)``\u001b[0m\n\u001b[0m                                                           ^\u001b[0m\n\u001b[0;31mSyntaxError\u001b[0m\u001b[0;31m:\u001b[0m invalid syntax\n"
     ]
    }
   ],
   "source": [
    "# Drop Registration Expiration Date\n",
    "df = df.drop(['Registration Expiration Date'], axis =1)``"
   ]
  },
  {
   "cell_type": "markdown",
   "metadata": {},
   "source": [
    "# Export file to be saved in GitHub\n",
    "<hr>\n"
   ]
  },
  {
   "cell_type": "markdown",
   "metadata": {},
   "source": [
    "### Write file to CSV"
   ]
  },
  {
   "cell_type": "code",
   "execution_count": null,
   "metadata": {},
   "outputs": [],
   "source": [
    "df.to_csv('data/EV-NY-Registered_feb-2022.csv', index=False)"
   ]
  },
  {
   "cell_type": "code",
   "execution_count": null,
   "metadata": {},
   "outputs": [],
   "source": []
  }
 ],
 "metadata": {
  "interpreter": {
   "hash": "3f1337977d947d4a3f615544b60fe6964aed947043e663b44e1a95a887488653"
  },
  "kernelspec": {
   "display_name": "Python 3.7.1 ('base')",
   "language": "python",
   "name": "python3"
  },
  "language_info": {
   "codemirror_mode": {
    "name": "ipython",
    "version": 3
   },
   "file_extension": ".py",
   "mimetype": "text/x-python",
   "name": "python",
   "nbconvert_exporter": "python",
   "pygments_lexer": "ipython3",
   "version": "3.8.2"
  },
  "orig_nbformat": 4
 },
 "nbformat": 4,
 "nbformat_minor": 2
}
