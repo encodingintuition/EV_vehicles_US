{
 "cells": [
  {
   "cell_type": "code",
   "execution_count": null,
   "metadata": {},
   "outputs": [],
   "source": []
  },
  {
   "cell_type": "markdown",
   "metadata": {},
   "source": [
    "# EV Vehicles Registered in New York state \n",
    "<hr>"
   ]
  },
  {
   "cell_type": "markdown",
   "metadata": {},
   "source": [
    "## Import\n"
   ]
  },
  {
   "cell_type": "code",
   "execution_count": 56,
   "metadata": {},
   "outputs": [],
   "source": [
    "# python 3.7.1\n",
    "\n",
    "import numpy as np\n",
    "import pandas as pd\n",
    "\n",
    "import plotly.express as px\n",
    "import seaborn as sns\n",
    "import matplotlib.pyplot as plt\n",
    "\n",
    "sns.set(rc={'figure.figsize':(21,9)})\n",
    "\n",
    "import missingno as msno"
   ]
  },
  {
   "cell_type": "markdown",
   "metadata": {},
   "source": [
    "# Data Ingestion\n",
    "<hr>"
   ]
  },
  {
   "cell_type": "code",
   "execution_count": 3,
   "metadata": {},
   "outputs": [
    {
     "name": "stdout",
     "output_type": "stream",
     "text": [
      "EV-NY-Registered_feb-2022.csv\n"
     ]
    }
   ],
   "source": [
    "# looking into folders\n",
    "! ls data"
   ]
  },
  {
   "cell_type": "code",
   "execution_count": 4,
   "metadata": {},
   "outputs": [],
   "source": [
    "df = pd.read_csv('data/EV-NY-Registered_feb-2022.csv')"
   ]
  },
  {
   "cell_type": "code",
   "execution_count": 5,
   "metadata": {},
   "outputs": [
    {
     "data": {
      "text/plain": [
       "(663606, 9)"
      ]
     },
     "execution_count": 5,
     "metadata": {},
     "output_type": "execute_result"
    }
   ],
   "source": [
    "df.shape"
   ]
  },
  {
   "cell_type": "code",
   "execution_count": 6,
   "metadata": {},
   "outputs": [
    {
     "data": {
      "text/html": [
       "<div>\n",
       "<style scoped>\n",
       "    .dataframe tbody tr th:only-of-type {\n",
       "        vertical-align: middle;\n",
       "    }\n",
       "\n",
       "    .dataframe tbody tr th {\n",
       "        vertical-align: top;\n",
       "    }\n",
       "\n",
       "    .dataframe thead th {\n",
       "        text-align: right;\n",
       "    }\n",
       "</style>\n",
       "<table border=\"1\" class=\"dataframe\">\n",
       "  <thead>\n",
       "    <tr style=\"text-align: right;\">\n",
       "      <th></th>\n",
       "      <th>ZIP Code</th>\n",
       "      <th>Registration Valid Date</th>\n",
       "      <th>VIN Prefix</th>\n",
       "      <th>DMV ID</th>\n",
       "      <th>DMV Snapshot</th>\n",
       "      <th>VIN Model Year</th>\n",
       "      <th>Registration Expiration Date</th>\n",
       "      <th>State</th>\n",
       "      <th>Vehicle Name</th>\n",
       "    </tr>\n",
       "  </thead>\n",
       "  <tbody>\n",
       "    <tr>\n",
       "      <th>0</th>\n",
       "      <td>11782</td>\n",
       "      <td>2020-10-22</td>\n",
       "      <td>JTMAB3FV</td>\n",
       "      <td>60</td>\n",
       "      <td>NY DATA.NY.GOV (1/1/2021)</td>\n",
       "      <td>M</td>\n",
       "      <td>2022-10-21</td>\n",
       "      <td>NY</td>\n",
       "      <td>Toyota RAV4 Prime</td>\n",
       "    </tr>\n",
       "    <tr>\n",
       "      <th>1</th>\n",
       "      <td>14850</td>\n",
       "      <td>2020-10-19</td>\n",
       "      <td>JTMAB3FV</td>\n",
       "      <td>60</td>\n",
       "      <td>NY DATA.NY.GOV (1/1/2021)</td>\n",
       "      <td>M</td>\n",
       "      <td>2022-10-18</td>\n",
       "      <td>NY</td>\n",
       "      <td>Toyota RAV4 Prime</td>\n",
       "    </tr>\n",
       "    <tr>\n",
       "      <th>2</th>\n",
       "      <td>10566</td>\n",
       "      <td>2021-11-05</td>\n",
       "      <td>JTMAB3FV</td>\n",
       "      <td>60</td>\n",
       "      <td>NY DATA.NY.GOV (1/1/2021)</td>\n",
       "      <td>M</td>\n",
       "      <td>2023-12-13</td>\n",
       "      <td>NY</td>\n",
       "      <td>Toyota RAV4 Prime</td>\n",
       "    </tr>\n",
       "  </tbody>\n",
       "</table>\n",
       "</div>"
      ],
      "text/plain": [
       "   ZIP Code Registration Valid Date VIN Prefix  DMV ID  \\\n",
       "0     11782              2020-10-22   JTMAB3FV      60   \n",
       "1     14850              2020-10-19   JTMAB3FV      60   \n",
       "2     10566              2021-11-05   JTMAB3FV      60   \n",
       "\n",
       "                DMV Snapshot VIN Model Year Registration Expiration Date  \\\n",
       "0  NY DATA.NY.GOV (1/1/2021)              M                   2022-10-21   \n",
       "1  NY DATA.NY.GOV (1/1/2021)              M                   2022-10-18   \n",
       "2  NY DATA.NY.GOV (1/1/2021)              M                   2023-12-13   \n",
       "\n",
       "  State       Vehicle Name  \n",
       "0    NY  Toyota RAV4 Prime  \n",
       "1    NY  Toyota RAV4 Prime  \n",
       "2    NY  Toyota RAV4 Prime  "
      ]
     },
     "execution_count": 6,
     "metadata": {},
     "output_type": "execute_result"
    }
   ],
   "source": [
    "df.head(3)"
   ]
  },
  {
   "cell_type": "code",
   "execution_count": 7,
   "metadata": {},
   "outputs": [
    {
     "data": {
      "text/html": [
       "<div>\n",
       "<style scoped>\n",
       "    .dataframe tbody tr th:only-of-type {\n",
       "        vertical-align: middle;\n",
       "    }\n",
       "\n",
       "    .dataframe tbody tr th {\n",
       "        vertical-align: top;\n",
       "    }\n",
       "\n",
       "    .dataframe thead th {\n",
       "        text-align: right;\n",
       "    }\n",
       "</style>\n",
       "<table border=\"1\" class=\"dataframe\">\n",
       "  <thead>\n",
       "    <tr style=\"text-align: right;\">\n",
       "      <th></th>\n",
       "      <th>ZIP Code</th>\n",
       "      <th>Registration Valid Date</th>\n",
       "      <th>VIN Prefix</th>\n",
       "      <th>DMV ID</th>\n",
       "      <th>DMV Snapshot</th>\n",
       "      <th>VIN Model Year</th>\n",
       "      <th>Registration Expiration Date</th>\n",
       "      <th>State</th>\n",
       "      <th>Vehicle Name</th>\n",
       "    </tr>\n",
       "  </thead>\n",
       "  <tbody>\n",
       "    <tr>\n",
       "      <th>663603</th>\n",
       "      <td>12992</td>\n",
       "      <td>2019-05-15</td>\n",
       "      <td>1FADP5CU</td>\n",
       "      <td>53</td>\n",
       "      <td>NY DATA.NY.GOV (6/1/2021)</td>\n",
       "      <td>D</td>\n",
       "      <td>2021-07-17</td>\n",
       "      <td>NY</td>\n",
       "      <td>Ford C-Max Energi</td>\n",
       "    </tr>\n",
       "    <tr>\n",
       "      <th>663604</th>\n",
       "      <td>14617</td>\n",
       "      <td>2020-12-22</td>\n",
       "      <td>1FADP5CU</td>\n",
       "      <td>53</td>\n",
       "      <td>NY DATA.NY.GOV (6/1/2021)</td>\n",
       "      <td>D</td>\n",
       "      <td>2022-12-17</td>\n",
       "      <td>NY</td>\n",
       "      <td>Ford C-Max Energi</td>\n",
       "    </tr>\n",
       "    <tr>\n",
       "      <th>663605</th>\n",
       "      <td>11767</td>\n",
       "      <td>2019-08-20</td>\n",
       "      <td>1FADP5CU</td>\n",
       "      <td>53</td>\n",
       "      <td>NY DATA.NY.GOV (6/1/2021)</td>\n",
       "      <td>D</td>\n",
       "      <td>2021-11-04</td>\n",
       "      <td>NY</td>\n",
       "      <td>Ford C-Max Energi</td>\n",
       "    </tr>\n",
       "  </tbody>\n",
       "</table>\n",
       "</div>"
      ],
      "text/plain": [
       "        ZIP Code Registration Valid Date VIN Prefix  DMV ID  \\\n",
       "663603     12992              2019-05-15   1FADP5CU      53   \n",
       "663604     14617              2020-12-22   1FADP5CU      53   \n",
       "663605     11767              2019-08-20   1FADP5CU      53   \n",
       "\n",
       "                     DMV Snapshot VIN Model Year Registration Expiration Date  \\\n",
       "663603  NY DATA.NY.GOV (6/1/2021)              D                   2021-07-17   \n",
       "663604  NY DATA.NY.GOV (6/1/2021)              D                   2022-12-17   \n",
       "663605  NY DATA.NY.GOV (6/1/2021)              D                   2021-11-04   \n",
       "\n",
       "       State       Vehicle Name  \n",
       "663603    NY  Ford C-Max Energi  \n",
       "663604    NY  Ford C-Max Energi  \n",
       "663605    NY  Ford C-Max Energi  "
      ]
     },
     "execution_count": 7,
     "metadata": {},
     "output_type": "execute_result"
    }
   ],
   "source": [
    "df.tail(3)"
   ]
  },
  {
   "cell_type": "code",
   "execution_count": 8,
   "metadata": {},
   "outputs": [
    {
     "name": "stdout",
     "output_type": "stream",
     "text": [
      "<class 'pandas.core.frame.DataFrame'>\n",
      "RangeIndex: 663606 entries, 0 to 663605\n",
      "Data columns (total 9 columns):\n",
      " #   Column                        Non-Null Count   Dtype \n",
      "---  ------                        --------------   ----- \n",
      " 0   ZIP Code                      663606 non-null  int64 \n",
      " 1   Registration Valid Date       663606 non-null  object\n",
      " 2   VIN Prefix                    663606 non-null  object\n",
      " 3   DMV ID                        663606 non-null  int64 \n",
      " 4   DMV Snapshot                  663606 non-null  object\n",
      " 5   VIN Model Year                663606 non-null  object\n",
      " 6   Registration Expiration Date  637719 non-null  object\n",
      " 7   State                         663606 non-null  object\n",
      " 8   Vehicle Name                  663606 non-null  object\n",
      "dtypes: int64(2), object(7)\n",
      "memory usage: 45.6+ MB\n"
     ]
    }
   ],
   "source": [
    "df.info()"
   ]
  },
  {
   "cell_type": "markdown",
   "metadata": {},
   "source": [
    "<br>\n",
    "\n",
    "# Quick EDA\n",
    "<hr>"
   ]
  },
  {
   "cell_type": "markdown",
   "metadata": {},
   "source": [
    "#### Unique Values per Feature"
   ]
  },
  {
   "cell_type": "code",
   "execution_count": 9,
   "metadata": {},
   "outputs": [
    {
     "data": {
      "image/png": "[encoded data removed]",
      "text/plain": [
       "<Figure size 1080x288 with 1 Axes>"
      ]
     },
     "metadata": {
      "needs_background": "light"
     },
     "output_type": "display_data"
    }
   ],
   "source": [
    "# See how many unique entries is in each numerical feature \n",
    "unique_values = df.select_dtypes(include= 'number').nunique().sort_values()\n",
    "\n",
    "# Plot unique values with a y-axis in log-scale\n",
    "unique_values.plot.bar(logy=True, figsize = (15,4), title='Unique values per Feature');\n"
   ]
  },
  {
   "cell_type": "markdown",
   "metadata": {},
   "source": [
    "<br>\n",
    "\n",
    "#### Check for Duplicates"
   ]
  },
  {
   "cell_type": "code",
   "execution_count": 10,
   "metadata": {},
   "outputs": [
    {
     "data": {
      "text/html": [
       "<div>\n",
       "<style scoped>\n",
       "    .dataframe tbody tr th:only-of-type {\n",
       "        vertical-align: middle;\n",
       "    }\n",
       "\n",
       "    .dataframe tbody tr th {\n",
       "        vertical-align: top;\n",
       "    }\n",
       "\n",
       "    .dataframe thead th {\n",
       "        text-align: right;\n",
       "    }\n",
       "</style>\n",
       "<table border=\"1\" class=\"dataframe\">\n",
       "  <thead>\n",
       "    <tr style=\"text-align: right;\">\n",
       "      <th></th>\n",
       "      <th>ZIP Code</th>\n",
       "      <th>Registration Valid Date</th>\n",
       "      <th>VIN Prefix</th>\n",
       "      <th>DMV ID</th>\n",
       "      <th>DMV Snapshot</th>\n",
       "      <th>VIN Model Year</th>\n",
       "      <th>Registration Expiration Date</th>\n",
       "      <th>State</th>\n",
       "      <th>Vehicle Name</th>\n",
       "    </tr>\n",
       "  </thead>\n",
       "  <tbody>\n",
       "    <tr>\n",
       "      <th>415121</th>\n",
       "      <td>4263</td>\n",
       "      <td>2021-08-24</td>\n",
       "      <td>JTDKARFP</td>\n",
       "      <td>56</td>\n",
       "      <td>NY DATA.NY.GOV (9/2/2021)</td>\n",
       "      <td>H</td>\n",
       "      <td>2021-09-22</td>\n",
       "      <td>NY</td>\n",
       "      <td>Toyota Prius Prime</td>\n",
       "    </tr>\n",
       "    <tr>\n",
       "      <th>432777</th>\n",
       "      <td>4263</td>\n",
       "      <td>2021-08-24</td>\n",
       "      <td>JTDKARFP</td>\n",
       "      <td>56</td>\n",
       "      <td>NY DATA.NY.GOV (9/2/2021)</td>\n",
       "      <td>L</td>\n",
       "      <td>2021-09-22</td>\n",
       "      <td>NY</td>\n",
       "      <td>Toyota Prius Prime</td>\n",
       "    </tr>\n",
       "    <tr>\n",
       "      <th>418005</th>\n",
       "      <td>4263</td>\n",
       "      <td>2021-08-24</td>\n",
       "      <td>JTDKARFP</td>\n",
       "      <td>56</td>\n",
       "      <td>NY DATA.NY.GOV (9/2/2021)</td>\n",
       "      <td>H</td>\n",
       "      <td>2021-09-22</td>\n",
       "      <td>NY</td>\n",
       "      <td>Toyota Prius Prime</td>\n",
       "    </tr>\n",
       "    <tr>\n",
       "      <th>261881</th>\n",
       "      <td>7114</td>\n",
       "      <td>2021-09-15</td>\n",
       "      <td>KM8K53AG</td>\n",
       "      <td>58</td>\n",
       "      <td>NY DATA.NY.GOV (11/1/2021)</td>\n",
       "      <td>M</td>\n",
       "      <td>2022-09-30</td>\n",
       "      <td>NY</td>\n",
       "      <td>Hyundai Kona Electric</td>\n",
       "    </tr>\n",
       "    <tr>\n",
       "      <th>137363</th>\n",
       "      <td>7114</td>\n",
       "      <td>2021-09-16</td>\n",
       "      <td>KM8K23AG</td>\n",
       "      <td>59</td>\n",
       "      <td>NY DATA.NY.GOV (12/1/2021)</td>\n",
       "      <td>M</td>\n",
       "      <td>2022-09-30</td>\n",
       "      <td>NY</td>\n",
       "      <td>Hyundai Kona Electric</td>\n",
       "    </tr>\n",
       "    <tr>\n",
       "      <th>...</th>\n",
       "      <td>...</td>\n",
       "      <td>...</td>\n",
       "      <td>...</td>\n",
       "      <td>...</td>\n",
       "      <td>...</td>\n",
       "      <td>...</td>\n",
       "      <td>...</td>\n",
       "      <td>...</td>\n",
       "      <td>...</td>\n",
       "    </tr>\n",
       "    <tr>\n",
       "      <th>550332</th>\n",
       "      <td>75261</td>\n",
       "      <td>2020-10-16</td>\n",
       "      <td>1G1RC6E4</td>\n",
       "      <td>54</td>\n",
       "      <td>NY DATA.NY.GOV (7/1/2021)</td>\n",
       "      <td>B</td>\n",
       "      <td>2021-10-31</td>\n",
       "      <td>NY</td>\n",
       "      <td>Chevrolet Volt</td>\n",
       "    </tr>\n",
       "    <tr>\n",
       "      <th>411048</th>\n",
       "      <td>75261</td>\n",
       "      <td>2020-10-16</td>\n",
       "      <td>1G1RC6E4</td>\n",
       "      <td>56</td>\n",
       "      <td>NY DATA.NY.GOV (9/2/2021)</td>\n",
       "      <td>B</td>\n",
       "      <td>2021-10-31</td>\n",
       "      <td>NY</td>\n",
       "      <td>Chevrolet Volt</td>\n",
       "    </tr>\n",
       "    <tr>\n",
       "      <th>44950</th>\n",
       "      <td>75261</td>\n",
       "      <td>2021-10-29</td>\n",
       "      <td>1G1RC6E4</td>\n",
       "      <td>60</td>\n",
       "      <td>NY DATA.NY.GOV (1/1/2021)</td>\n",
       "      <td>B</td>\n",
       "      <td>2022-10-31</td>\n",
       "      <td>NY</td>\n",
       "      <td>Chevrolet Volt</td>\n",
       "    </tr>\n",
       "    <tr>\n",
       "      <th>278138</th>\n",
       "      <td>75261</td>\n",
       "      <td>2020-10-16</td>\n",
       "      <td>1G1RC6E4</td>\n",
       "      <td>57</td>\n",
       "      <td>NY DATA.NY.GOV (10/1/2021)</td>\n",
       "      <td>B</td>\n",
       "      <td>2021-10-31</td>\n",
       "      <td>NY</td>\n",
       "      <td>Chevrolet Volt</td>\n",
       "    </tr>\n",
       "    <tr>\n",
       "      <th>235295</th>\n",
       "      <td>75261</td>\n",
       "      <td>2021-10-29</td>\n",
       "      <td>1G1RC6E4</td>\n",
       "      <td>58</td>\n",
       "      <td>NY DATA.NY.GOV (11/1/2021)</td>\n",
       "      <td>B</td>\n",
       "      <td>2022-10-31</td>\n",
       "      <td>NY</td>\n",
       "      <td>Chevrolet Volt</td>\n",
       "    </tr>\n",
       "  </tbody>\n",
       "</table>\n",
       "<p>23933 rows × 9 columns</p>\n",
       "</div>"
      ],
      "text/plain": [
       "        ZIP Code Registration Valid Date VIN Prefix  DMV ID  \\\n",
       "415121      4263              2021-08-24   JTDKARFP      56   \n",
       "432777      4263              2021-08-24   JTDKARFP      56   \n",
       "418005      4263              2021-08-24   JTDKARFP      56   \n",
       "261881      7114              2021-09-15   KM8K53AG      58   \n",
       "137363      7114              2021-09-16   KM8K23AG      59   \n",
       "...          ...                     ...        ...     ...   \n",
       "550332     75261              2020-10-16   1G1RC6E4      54   \n",
       "411048     75261              2020-10-16   1G1RC6E4      56   \n",
       "44950      75261              2021-10-29   1G1RC6E4      60   \n",
       "278138     75261              2020-10-16   1G1RC6E4      57   \n",
       "235295     75261              2021-10-29   1G1RC6E4      58   \n",
       "\n",
       "                      DMV Snapshot VIN Model Year  \\\n",
       "415121   NY DATA.NY.GOV (9/2/2021)              H   \n",
       "432777   NY DATA.NY.GOV (9/2/2021)              L   \n",
       "418005   NY DATA.NY.GOV (9/2/2021)              H   \n",
       "261881  NY DATA.NY.GOV (11/1/2021)              M   \n",
       "137363  NY DATA.NY.GOV (12/1/2021)              M   \n",
       "...                            ...            ...   \n",
       "550332   NY DATA.NY.GOV (7/1/2021)              B   \n",
       "411048   NY DATA.NY.GOV (9/2/2021)              B   \n",
       "44950    NY DATA.NY.GOV (1/1/2021)              B   \n",
       "278138  NY DATA.NY.GOV (10/1/2021)              B   \n",
       "235295  NY DATA.NY.GOV (11/1/2021)              B   \n",
       "\n",
       "       Registration Expiration Date State           Vehicle Name  \n",
       "415121                   2021-09-22    NY     Toyota Prius Prime  \n",
       "432777                   2021-09-22    NY     Toyota Prius Prime  \n",
       "418005                   2021-09-22    NY     Toyota Prius Prime  \n",
       "261881                   2022-09-30    NY  Hyundai Kona Electric  \n",
       "137363                   2022-09-30    NY  Hyundai Kona Electric  \n",
       "...                             ...   ...                    ...  \n",
       "550332                   2021-10-31    NY         Chevrolet Volt  \n",
       "411048                   2021-10-31    NY         Chevrolet Volt  \n",
       "44950                    2022-10-31    NY         Chevrolet Volt  \n",
       "278138                   2021-10-31    NY         Chevrolet Volt  \n",
       "235295                   2022-10-31    NY         Chevrolet Volt  \n",
       "\n",
       "[23933 rows x 9 columns]"
      ]
     },
     "execution_count": 10,
     "metadata": {},
     "output_type": "execute_result"
    }
   ],
   "source": [
    " df[df.duplicated()].sort_values(by = 'ZIP Code')"
   ]
  },
  {
   "cell_type": "code",
   "execution_count": 11,
   "metadata": {},
   "outputs": [
    {
     "name": "stdout",
     "output_type": "stream",
     "text": [
      "You seem to have 23933 duplicates in your database.\n"
     ]
    },
    {
     "data": {
      "text/plain": [
       "(639673, 9)"
      ]
     },
     "execution_count": 11,
     "metadata": {},
     "output_type": "execute_result"
    }
   ],
   "source": [
    "# Check number of duplicates\n",
    "n_duplicates = df.duplicated().sum()\n",
    "print(f\"You seem to have {n_duplicates} duplicates in your database.\")\n",
    "\n",
    "#  Extract column names of all features\n",
    "columns_to_consider = df.columns\n",
    "\n",
    "# Drop duplicates based on 'columns_to_consider'\n",
    "df_X = df.drop_duplicates(subset=columns_to_consider)\n",
    "df_X.shape\n"
   ]
  },
  {
   "cell_type": "code",
   "execution_count": 12,
   "metadata": {},
   "outputs": [],
   "source": [
    "# check duplicates\n",
    "dif = set(df.index) - set(df_X.index) \n"
   ]
  },
  {
   "cell_type": "markdown",
   "metadata": {},
   "source": [
    "             Before removing what might be duplicates I will contact group who created the dataset"
   ]
  },
  {
   "cell_type": "markdown",
   "metadata": {},
   "source": [
    "<br>\n",
    "\n",
    "### NAN\n",
    "\n",
    "<hr>"
   ]
  },
  {
   "cell_type": "code",
   "execution_count": 13,
   "metadata": {},
   "outputs": [
    {
     "data": {
      "image/png": "[encoded data removed]",
      "text/plain": [
       "<Figure size 1800x720 with 2 Axes>"
      ]
     },
     "metadata": {
      "needs_background": "light"
     },
     "output_type": "display_data"
    }
   ],
   "source": [
    "msno.matrix(df);"
   ]
  },
  {
   "cell_type": "code",
   "execution_count": 14,
   "metadata": {},
   "outputs": [
    {
     "data": {
      "image/png": "[encoded data removed]",
      "text/plain": [
       "<Figure size 1800x720 with 3 Axes>"
      ]
     },
     "metadata": {
      "needs_background": "light"
     },
     "output_type": "display_data"
    }
   ],
   "source": [
    "msno.bar(df);"
   ]
  },
  {
   "cell_type": "markdown",
   "metadata": {},
   "source": [
    "<br>\n",
    "\n",
    "#### Numerical Features"
   ]
  },
  {
   "cell_type": "code",
   "execution_count": 15,
   "metadata": {},
   "outputs": [
    {
     "data": {
      "image/png": "[encoded data removed]",
      "text/plain": [
       "<Figure size 1080x360 with 4 Axes>"
      ]
     },
     "metadata": {
      "needs_background": "light"
     },
     "output_type": "display_data"
    }
   ],
   "source": [
    "df.plot(lw=0,\n",
    "    marker='.',\n",
    "    subplots=True,\n",
    "    layout=(-1,4),\n",
    "    figsize=(15,5),\n",
    "    markersize=1);"
   ]
  },
  {
   "cell_type": "markdown",
   "metadata": {},
   "source": [
    "<br>\n",
    "\n",
    "#### Non-Numerical Features"
   ]
  },
  {
   "cell_type": "code",
   "execution_count": 16,
   "metadata": {},
   "outputs": [
    {
     "data": {
      "text/plain": [
       "(663606, 7)"
      ]
     },
     "execution_count": 16,
     "metadata": {},
     "output_type": "execute_result"
    }
   ],
   "source": [
    "# number of non-numerical features\n",
    "df.select_dtypes(exclude=[\"number\", \"datetime\"]).shape"
   ]
  },
  {
   "cell_type": "code",
   "execution_count": 17,
   "metadata": {},
   "outputs": [
    {
     "data": {
      "image/png": "[encoded data removed]",
      "text/plain": [
       "<Figure size 1080x1080 with 5 Axes>"
      ]
     },
     "metadata": {
      "needs_background": "light"
     },
     "output_type": "display_data"
    }
   ],
   "source": [
    "# Create figure object with 3 subplots\n",
    "fig, axes = plt.subplots(ncols=1, nrows=5, figsize=(15, 15))\n",
    "\n",
    "# Identify non-numerical features\n",
    "df_non_numerical = df.select_dtypes(exclude=[\"number\", \"datetime\"])\n",
    "\n",
    "# Loop through features and put each subplot on a matplotlib axis object\n",
    "for col, ax in zip(df_non_numerical.columns, axes.ravel()):\n",
    "\n",
    "    # Selects one single feature and counts number of unique value\n",
    "    df_non_numerical[col].value_counts().plot(\n",
    "\n",
    "        # Plots this information in a figure with log-scaled y-axis\n",
    "        logy=True, title=col, lw=0, marker=\".\", ax=ax)\n",
    "    \n",
    "plt.tight_layout();"
   ]
  },
  {
   "cell_type": "markdown",
   "metadata": {},
   "source": [
    "<br>\n",
    "\n",
    "#### Feature Distrobution"
   ]
  },
  {
   "cell_type": "code",
   "execution_count": 18,
   "metadata": {},
   "outputs": [
    {
     "data": {
      "image/png": "[encoded data removed]",
      "text/plain": [
       "<Figure size 1080x360 with 5 Axes>"
      ]
     },
     "metadata": {
      "needs_background": "light"
     },
     "output_type": "display_data"
    }
   ],
   "source": [
    "# Plots the histogram for each numerical feature in a separate subplot\n",
    "df.hist(bins=25, figsize=(15, 5), layout=(-1, 5), edgecolor=\"black\")\n",
    "plt.tight_layout();"
   ]
  },
  {
   "cell_type": "markdown",
   "metadata": {},
   "source": [
    "# Cleaning\n",
    "<hr>"
   ]
  },
  {
   "cell_type": "code",
   "execution_count": 19,
   "metadata": {},
   "outputs": [
    {
     "data": {
      "text/plain": [
       "Index(['ZIP Code', 'Registration Valid Date', 'VIN Prefix', 'DMV ID',\n",
       "       'DMV Snapshot', 'VIN Model Year', 'Registration Expiration Date',\n",
       "       'State', 'Vehicle Name'],\n",
       "      dtype='object')"
      ]
     },
     "execution_count": 19,
     "metadata": {},
     "output_type": "execute_result"
    }
   ],
   "source": [
    "df.columns"
   ]
  },
  {
   "cell_type": "code",
   "execution_count": null,
   "metadata": {},
   "outputs": [],
   "source": []
  },
  {
   "cell_type": "markdown",
   "metadata": {},
   "source": [
    "# Feature Creation\n",
    "<hr>"
   ]
  },
  {
   "cell_type": "code",
   "execution_count": 20,
   "metadata": {},
   "outputs": [],
   "source": [
    "df['Registration Valid Date'] = pd.to_datetime(df['Registration Valid Date'])"
   ]
  },
  {
   "cell_type": "code",
   "execution_count": 21,
   "metadata": {},
   "outputs": [],
   "source": [
    "# create features of Date\n",
    "df['month'] = df['Registration Valid Date'].dt.month\n",
    "df['year'] = df['Registration Valid Date'].dt.year"
   ]
  },
  {
   "cell_type": "code",
   "execution_count": 22,
   "metadata": {},
   "outputs": [],
   "source": [
    "df.set_index('Registration Valid Date', inplace=True)\n",
    "df.sort_index(inplace = True)"
   ]
  },
  {
   "cell_type": "markdown",
   "metadata": {},
   "source": [
    "<br>\n",
    "\n",
    "# Exploration\n",
    "<hr>"
   ]
  },
  {
   "cell_type": "code",
   "execution_count": 23,
   "metadata": {},
   "outputs": [
    {
     "data": {
      "text/html": [
       "<div>\n",
       "<style scoped>\n",
       "    .dataframe tbody tr th:only-of-type {\n",
       "        vertical-align: middle;\n",
       "    }\n",
       "\n",
       "    .dataframe tbody tr th {\n",
       "        vertical-align: top;\n",
       "    }\n",
       "\n",
       "    .dataframe thead th {\n",
       "        text-align: right;\n",
       "    }\n",
       "</style>\n",
       "<table border=\"1\" class=\"dataframe\">\n",
       "  <thead>\n",
       "    <tr style=\"text-align: right;\">\n",
       "      <th></th>\n",
       "      <th>ZIP Code</th>\n",
       "      <th>VIN Prefix</th>\n",
       "      <th>DMV ID</th>\n",
       "      <th>DMV Snapshot</th>\n",
       "      <th>VIN Model Year</th>\n",
       "      <th>Registration Expiration Date</th>\n",
       "      <th>State</th>\n",
       "      <th>Vehicle Name</th>\n",
       "      <th>month</th>\n",
       "      <th>year</th>\n",
       "    </tr>\n",
       "    <tr>\n",
       "      <th>Registration Valid Date</th>\n",
       "      <th></th>\n",
       "      <th></th>\n",
       "      <th></th>\n",
       "      <th></th>\n",
       "      <th></th>\n",
       "      <th></th>\n",
       "      <th></th>\n",
       "      <th></th>\n",
       "      <th></th>\n",
       "      <th></th>\n",
       "    </tr>\n",
       "  </thead>\n",
       "  <tbody>\n",
       "    <tr>\n",
       "      <th>2016-01-08</th>\n",
       "      <td>11368</td>\n",
       "      <td>3FA6P0PU</td>\n",
       "      <td>58</td>\n",
       "      <td>NY DATA.NY.GOV (11/1/2021)</td>\n",
       "      <td>G</td>\n",
       "      <td>NaN</td>\n",
       "      <td>NY</td>\n",
       "      <td>Ford Fusion Energi</td>\n",
       "      <td>1</td>\n",
       "      <td>2016</td>\n",
       "    </tr>\n",
       "    <tr>\n",
       "      <th>2016-01-08</th>\n",
       "      <td>11368</td>\n",
       "      <td>3FA6P0PU</td>\n",
       "      <td>55</td>\n",
       "      <td>NY DATA.NY.GOV (8/1/2021)</td>\n",
       "      <td>G</td>\n",
       "      <td>NaN</td>\n",
       "      <td>NY</td>\n",
       "      <td>Ford Fusion Energi</td>\n",
       "      <td>1</td>\n",
       "      <td>2016</td>\n",
       "    </tr>\n",
       "    <tr>\n",
       "      <th>2016-01-08</th>\n",
       "      <td>11368</td>\n",
       "      <td>3FA6P0PU</td>\n",
       "      <td>60</td>\n",
       "      <td>NY DATA.NY.GOV (1/1/2021)</td>\n",
       "      <td>G</td>\n",
       "      <td>NaN</td>\n",
       "      <td>NY</td>\n",
       "      <td>Ford Fusion Energi</td>\n",
       "      <td>1</td>\n",
       "      <td>2016</td>\n",
       "    </tr>\n",
       "    <tr>\n",
       "      <th>2016-01-08</th>\n",
       "      <td>11368</td>\n",
       "      <td>3FA6P0PU</td>\n",
       "      <td>54</td>\n",
       "      <td>NY DATA.NY.GOV (7/1/2021)</td>\n",
       "      <td>G</td>\n",
       "      <td>NaN</td>\n",
       "      <td>NY</td>\n",
       "      <td>Ford Fusion Energi</td>\n",
       "      <td>1</td>\n",
       "      <td>2016</td>\n",
       "    </tr>\n",
       "    <tr>\n",
       "      <th>2016-01-08</th>\n",
       "      <td>11368</td>\n",
       "      <td>3FA6P0PU</td>\n",
       "      <td>53</td>\n",
       "      <td>NY DATA.NY.GOV (6/1/2021)</td>\n",
       "      <td>G</td>\n",
       "      <td>NaN</td>\n",
       "      <td>NY</td>\n",
       "      <td>Ford Fusion Energi</td>\n",
       "      <td>1</td>\n",
       "      <td>2016</td>\n",
       "    </tr>\n",
       "    <tr>\n",
       "      <th>...</th>\n",
       "      <td>...</td>\n",
       "      <td>...</td>\n",
       "      <td>...</td>\n",
       "      <td>...</td>\n",
       "      <td>...</td>\n",
       "      <td>...</td>\n",
       "      <td>...</td>\n",
       "      <td>...</td>\n",
       "      <td>...</td>\n",
       "      <td>...</td>\n",
       "    </tr>\n",
       "    <tr>\n",
       "      <th>2016-12-30</th>\n",
       "      <td>10601</td>\n",
       "      <td>1FADP3R4</td>\n",
       "      <td>53</td>\n",
       "      <td>NY DATA.NY.GOV (6/1/2021)</td>\n",
       "      <td>G</td>\n",
       "      <td>NaN</td>\n",
       "      <td>NY</td>\n",
       "      <td>Ford Focus EV</td>\n",
       "      <td>12</td>\n",
       "      <td>2016</td>\n",
       "    </tr>\n",
       "    <tr>\n",
       "      <th>2016-12-30</th>\n",
       "      <td>10601</td>\n",
       "      <td>1FADP3R4</td>\n",
       "      <td>53</td>\n",
       "      <td>NY DATA.NY.GOV (6/1/2021)</td>\n",
       "      <td>G</td>\n",
       "      <td>NaN</td>\n",
       "      <td>NY</td>\n",
       "      <td>Ford Focus EV</td>\n",
       "      <td>12</td>\n",
       "      <td>2016</td>\n",
       "    </tr>\n",
       "    <tr>\n",
       "      <th>2016-12-30</th>\n",
       "      <td>10601</td>\n",
       "      <td>1FADP3R4</td>\n",
       "      <td>58</td>\n",
       "      <td>NY DATA.NY.GOV (11/1/2021)</td>\n",
       "      <td>G</td>\n",
       "      <td>NaN</td>\n",
       "      <td>NY</td>\n",
       "      <td>Ford Focus EV</td>\n",
       "      <td>12</td>\n",
       "      <td>2016</td>\n",
       "    </tr>\n",
       "    <tr>\n",
       "      <th>2016-12-30</th>\n",
       "      <td>10601</td>\n",
       "      <td>1FADP3R4</td>\n",
       "      <td>55</td>\n",
       "      <td>NY DATA.NY.GOV (8/1/2021)</td>\n",
       "      <td>G</td>\n",
       "      <td>NaN</td>\n",
       "      <td>NY</td>\n",
       "      <td>Ford Focus EV</td>\n",
       "      <td>12</td>\n",
       "      <td>2016</td>\n",
       "    </tr>\n",
       "    <tr>\n",
       "      <th>2016-12-30</th>\n",
       "      <td>10601</td>\n",
       "      <td>1FADP3R4</td>\n",
       "      <td>56</td>\n",
       "      <td>NY DATA.NY.GOV (9/2/2021)</td>\n",
       "      <td>G</td>\n",
       "      <td>NaN</td>\n",
       "      <td>NY</td>\n",
       "      <td>Ford Focus EV</td>\n",
       "      <td>12</td>\n",
       "      <td>2016</td>\n",
       "    </tr>\n",
       "  </tbody>\n",
       "</table>\n",
       "<p>2165 rows × 10 columns</p>\n",
       "</div>"
      ],
      "text/plain": [
       "                         ZIP Code VIN Prefix  DMV ID  \\\n",
       "Registration Valid Date                                \n",
       "2016-01-08                  11368   3FA6P0PU      58   \n",
       "2016-01-08                  11368   3FA6P0PU      55   \n",
       "2016-01-08                  11368   3FA6P0PU      60   \n",
       "2016-01-08                  11368   3FA6P0PU      54   \n",
       "2016-01-08                  11368   3FA6P0PU      53   \n",
       "...                           ...        ...     ...   \n",
       "2016-12-30                  10601   1FADP3R4      53   \n",
       "2016-12-30                  10601   1FADP3R4      53   \n",
       "2016-12-30                  10601   1FADP3R4      58   \n",
       "2016-12-30                  10601   1FADP3R4      55   \n",
       "2016-12-30                  10601   1FADP3R4      56   \n",
       "\n",
       "                                       DMV Snapshot VIN Model Year  \\\n",
       "Registration Valid Date                                              \n",
       "2016-01-08               NY DATA.NY.GOV (11/1/2021)              G   \n",
       "2016-01-08                NY DATA.NY.GOV (8/1/2021)              G   \n",
       "2016-01-08                NY DATA.NY.GOV (1/1/2021)              G   \n",
       "2016-01-08                NY DATA.NY.GOV (7/1/2021)              G   \n",
       "2016-01-08                NY DATA.NY.GOV (6/1/2021)              G   \n",
       "...                                             ...            ...   \n",
       "2016-12-30                NY DATA.NY.GOV (6/1/2021)              G   \n",
       "2016-12-30                NY DATA.NY.GOV (6/1/2021)              G   \n",
       "2016-12-30               NY DATA.NY.GOV (11/1/2021)              G   \n",
       "2016-12-30                NY DATA.NY.GOV (8/1/2021)              G   \n",
       "2016-12-30                NY DATA.NY.GOV (9/2/2021)              G   \n",
       "\n",
       "                        Registration Expiration Date State  \\\n",
       "Registration Valid Date                                      \n",
       "2016-01-08                                       NaN    NY   \n",
       "2016-01-08                                       NaN    NY   \n",
       "2016-01-08                                       NaN    NY   \n",
       "2016-01-08                                       NaN    NY   \n",
       "2016-01-08                                       NaN    NY   \n",
       "...                                              ...   ...   \n",
       "2016-12-30                                       NaN    NY   \n",
       "2016-12-30                                       NaN    NY   \n",
       "2016-12-30                                       NaN    NY   \n",
       "2016-12-30                                       NaN    NY   \n",
       "2016-12-30                                       NaN    NY   \n",
       "\n",
       "                               Vehicle Name  month  year  \n",
       "Registration Valid Date                                   \n",
       "2016-01-08               Ford Fusion Energi      1  2016  \n",
       "2016-01-08               Ford Fusion Energi      1  2016  \n",
       "2016-01-08               Ford Fusion Energi      1  2016  \n",
       "2016-01-08               Ford Fusion Energi      1  2016  \n",
       "2016-01-08               Ford Fusion Energi      1  2016  \n",
       "...                                     ...    ...   ...  \n",
       "2016-12-30                    Ford Focus EV     12  2016  \n",
       "2016-12-30                    Ford Focus EV     12  2016  \n",
       "2016-12-30                    Ford Focus EV     12  2016  \n",
       "2016-12-30                    Ford Focus EV     12  2016  \n",
       "2016-12-30                    Ford Focus EV     12  2016  \n",
       "\n",
       "[2165 rows x 10 columns]"
      ]
     },
     "execution_count": 23,
     "metadata": {},
     "output_type": "execute_result"
    }
   ],
   "source": [
    "df.loc['2016']"
   ]
  },
  {
   "cell_type": "code",
   "execution_count": 24,
   "metadata": {},
   "outputs": [
    {
     "data": {
      "text/html": [
       "<div>\n",
       "<style scoped>\n",
       "    .dataframe tbody tr th:only-of-type {\n",
       "        vertical-align: middle;\n",
       "    }\n",
       "\n",
       "    .dataframe tbody tr th {\n",
       "        vertical-align: top;\n",
       "    }\n",
       "\n",
       "    .dataframe thead th {\n",
       "        text-align: right;\n",
       "    }\n",
       "</style>\n",
       "<table border=\"1\" class=\"dataframe\">\n",
       "  <thead>\n",
       "    <tr style=\"text-align: right;\">\n",
       "      <th>Registration Valid Date</th>\n",
       "      <th>2014-04-10</th>\n",
       "    </tr>\n",
       "  </thead>\n",
       "  <tbody>\n",
       "    <tr>\n",
       "      <th>ZIP Code</th>\n",
       "      <td>12238</td>\n",
       "    </tr>\n",
       "    <tr>\n",
       "      <th>VIN Prefix</th>\n",
       "      <td>JTDKN3DP</td>\n",
       "    </tr>\n",
       "    <tr>\n",
       "      <th>DMV ID</th>\n",
       "      <td>55</td>\n",
       "    </tr>\n",
       "    <tr>\n",
       "      <th>DMV Snapshot</th>\n",
       "      <td>NY DATA.NY.GOV (8/1/2021)</td>\n",
       "    </tr>\n",
       "    <tr>\n",
       "      <th>VIN Model Year</th>\n",
       "      <td>C</td>\n",
       "    </tr>\n",
       "    <tr>\n",
       "      <th>Registration Expiration Date</th>\n",
       "      <td>NaN</td>\n",
       "    </tr>\n",
       "    <tr>\n",
       "      <th>State</th>\n",
       "      <td>NY</td>\n",
       "    </tr>\n",
       "    <tr>\n",
       "      <th>Vehicle Name</th>\n",
       "      <td>Toyota Prius Plug-in</td>\n",
       "    </tr>\n",
       "    <tr>\n",
       "      <th>month</th>\n",
       "      <td>4</td>\n",
       "    </tr>\n",
       "    <tr>\n",
       "      <th>year</th>\n",
       "      <td>2014</td>\n",
       "    </tr>\n",
       "  </tbody>\n",
       "</table>\n",
       "</div>"
      ],
      "text/plain": [
       "Registration Valid Date                      2014-04-10\n",
       "ZIP Code                                          12238\n",
       "VIN Prefix                                     JTDKN3DP\n",
       "DMV ID                                               55\n",
       "DMV Snapshot                  NY DATA.NY.GOV (8/1/2021)\n",
       "VIN Model Year                                        C\n",
       "Registration Expiration Date                        NaN\n",
       "State                                                NY\n",
       "Vehicle Name                       Toyota Prius Plug-in\n",
       "month                                                 4\n",
       "year                                               2014"
      ]
     },
     "execution_count": 24,
     "metadata": {},
     "output_type": "execute_result"
    }
   ],
   "source": [
    "df.head(1).T"
   ]
  },
  {
   "cell_type": "markdown",
   "metadata": {},
   "source": [
    "<br> \n",
    "\n",
    "#### Zip Code"
   ]
  },
  {
   "cell_type": "code",
   "execution_count": 35,
   "metadata": {},
   "outputs": [
    {
     "data": {
      "text/plain": [
       "2525"
      ]
     },
     "execution_count": 35,
     "metadata": {},
     "output_type": "execute_result"
    }
   ],
   "source": [
    "# number of unique zip codes\n",
    "df['ZIP Code'].nunique()"
   ]
  },
  {
   "cell_type": "code",
   "execution_count": null,
   "metadata": {},
   "outputs": [],
   "source": [
    "df['ZIP Code'] > 7000"
   ]
  },
  {
   "cell_type": "code",
   "execution_count": 44,
   "metadata": {},
   "outputs": [
    {
     "data": {
      "text/plain": [
       "<matplotlib.axes._subplots.AxesSubplot at 0x7f968443ef90>"
      ]
     },
     "execution_count": 44,
     "metadata": {},
     "output_type": "execute_result"
    },
    {
     "data": {
      "image/png": "[encoded data removed]",
      "text/plain": [
       "<Figure size 1080x720 with 1 Axes>"
      ]
     },
     "metadata": {
      "needs_background": "light"
     },
     "output_type": "display_data"
    }
   ],
   "source": [
    "df['ZIP Code'].value_counts().plot(kind = 'box', vert=False, figsize=(15,10));"
   ]
  },
  {
   "cell_type": "code",
   "execution_count": 57,
   "metadata": {},
   "outputs": [
    {
     "data": {
      "image/png": "[encoded data removed]",
      "text/plain": [
       "<Figure size 1512x648 with 1 Axes>"
      ]
     },
     "metadata": {},
     "output_type": "display_data"
    }
   ],
   "source": [
    "sns.violinplot(x=df['ZIP Code']);"
   ]
  },
  {
   "cell_type": "code",
   "execution_count": 51,
   "metadata": {},
   "outputs": [
    {
     "data": {
      "text/plain": [
       "<bound method BaseFigure.show of Figure({\n",
       "    'data': [{'alignmentgroup': 'True',\n",
       "              'boxpoints': 'all',\n",
       "              'hovertemplate': 'ZIP Code=%{x}<extra></extra>',\n",
       "              'legendgroup': '',\n",
       "              'marker': {'color': '#636efa'},\n",
       "              'name': '',\n",
       "              'notched': False,\n",
       "              'offsetgroup': '',\n",
       "              'orientation': 'h',\n",
       "              'showlegend': False,\n",
       "              'type': 'box',\n",
       "              'x': array([12238, 12238, 12238, ..., 12570, 10567, 13078]),\n",
       "              'x0': ' ',\n",
       "              'xaxis': 'x',\n",
       "              'y0': ' ',\n",
       "              'yaxis': 'y'}],\n",
       "    'layout': {'boxmode': 'group',\n",
       "               'legend': {'tracegroupgap': 0},\n",
       "               'margin': {'t': 60},\n",
       "               'template': '...',\n",
       "               'xaxis': {'anchor': 'y', 'domain': [0.0, 1.0], 'title': {'text': 'ZIP Code'}},\n",
       "               'yaxis': {'anchor': 'x', 'domain': [0.0, 1.0]}}\n",
       "})>"
      ]
     },
     "execution_count": 51,
     "metadata": {},
     "output_type": "execute_result"
    }
   ],
   "source": [
    "\"\"\"\n",
    "\n",
    "\"\"\"\n",
    "figbox_zip = px.box(df,x = 'ZIP Code',points='all');\n",
    "\n",
    "figbox_zip.show"
   ]
  },
  {
   "cell_type": "markdown",
   "metadata": {},
   "source": [
    "<br>"
   ]
  },
  {
   "cell_type": "markdown",
   "metadata": {},
   "source": [
    "#### VIN Prefix"
   ]
  },
  {
   "cell_type": "code",
   "execution_count": 26,
   "metadata": {},
   "outputs": [
    {
     "data": {
      "text/plain": [
       "392"
      ]
     },
     "execution_count": 26,
     "metadata": {},
     "output_type": "execute_result"
    }
   ],
   "source": [
    "df['VIN Prefix'].nunique()"
   ]
  },
  {
   "cell_type": "code",
   "execution_count": 27,
   "metadata": {},
   "outputs": [
    {
     "data": {
      "text/plain": [
       "5YJ3E1EB    67293\n",
       "JTDKARFP    64876\n",
       "5YJYGDEE    55050\n",
       "5YJ3E1EA    40282\n",
       "5YJSA1E2    23504\n",
       "JTDKAMFP    23467\n",
       "3FA6P0SU    17692\n",
       "JTMAB3FV    17500\n",
       "JTDKN3DP    14293\n",
       "1G1RC6S5    12103\n",
       "Name: VIN Prefix, dtype: int64"
      ]
     },
     "execution_count": 27,
     "metadata": {},
     "output_type": "execute_result"
    }
   ],
   "source": [
    "# top 10 VIN prefix\n",
    "df['VIN Prefix'].value_counts().sort_values(ascending=False).head(10)"
   ]
  },
  {
   "cell_type": "markdown",
   "metadata": {},
   "source": [
    "#### VIN Model Year"
   ]
  },
  {
   "cell_type": "code",
   "execution_count": 28,
   "metadata": {},
   "outputs": [
    {
     "data": {
      "text/plain": [
       "array(['C', 'E', 'A', '8', 'D', 'B', 'F', '9', '5', '2', 'G', 'H', 'J',\n",
       "       '6', 'K', '7', 'L', '1', 'S', '3', 'X', 'M', 'N', 'Y'],\n",
       "      dtype=object)"
      ]
     },
     "execution_count": 28,
     "metadata": {},
     "output_type": "execute_result"
    }
   ],
   "source": [
    "df['VIN Model Year'].unique()"
   ]
  },
  {
   "cell_type": "code",
   "execution_count": 29,
   "metadata": {},
   "outputs": [
    {
     "data": {
      "text/plain": [
       "M    196660\n",
       "L    124935\n",
       "J    101440\n",
       "K     88179\n",
       "H     66097\n",
       "G     21366\n",
       "F     14327\n",
       "D     14004\n",
       "E     13924\n",
       "C     10490\n",
       "Name: VIN Model Year, dtype: int64"
      ]
     },
     "execution_count": 29,
     "metadata": {},
     "output_type": "execute_result"
    }
   ],
   "source": [
    "# top 10 VIN Model Year\n",
    "df['VIN Model Year'].value_counts().head(10)"
   ]
  },
  {
   "cell_type": "markdown",
   "metadata": {},
   "source": [
    "#### DMV Snapshot"
   ]
  },
  {
   "cell_type": "code",
   "execution_count": 30,
   "metadata": {},
   "outputs": [
    {
     "data": {
      "text/plain": [
       "array(['NY DATA.NY.GOV (8/1/2021)', 'NY DATA.NY.GOV (10/1/2021)',\n",
       "       'NY DATA.NY.GOV (1/1/2021)', 'NY DATA.NY.GOV (9/2/2021)',\n",
       "       'NY DATA.NY.GOV (7/1/2021)', 'NY DATA.NY.GOV (11/1/2021)',\n",
       "       'NY DATA.NY.GOV (12/1/2021)', 'NY DATA.NY.GOV (6/1/2021)'],\n",
       "      dtype=object)"
      ]
     },
     "execution_count": 30,
     "metadata": {},
     "output_type": "execute_result"
    }
   ],
   "source": [
    "df['DMV Snapshot'].unique()"
   ]
  },
  {
   "cell_type": "markdown",
   "metadata": {},
   "source": [
    "#### DMV ID"
   ]
  },
  {
   "cell_type": "code",
   "execution_count": 31,
   "metadata": {},
   "outputs": [
    {
     "data": {
      "text/plain": [
       "array([55, 57, 60, 56, 54, 58, 59, 53])"
      ]
     },
     "execution_count": 31,
     "metadata": {},
     "output_type": "execute_result"
    }
   ],
   "source": [
    "df['DMV ID'].unique()"
   ]
  },
  {
   "cell_type": "code",
   "execution_count": 32,
   "metadata": {},
   "outputs": [
    {
     "data": {
      "image/png": "[encoded data removed]",
      "text/plain": [
       "<Figure size 432x288 with 1 Axes>"
      ]
     },
     "metadata": {
      "needs_background": "light"
     },
     "output_type": "display_data"
    }
   ],
   "source": [
    "sns.histplot( data = df['DMV ID'], bins = 24);"
   ]
  },
  {
   "cell_type": "markdown",
   "metadata": {},
   "source": [
    "##### State"
   ]
  },
  {
   "cell_type": "code",
   "execution_count": 33,
   "metadata": {},
   "outputs": [
    {
     "data": {
      "text/plain": [
       "array(['NY'], dtype=object)"
      ]
     },
     "execution_count": 33,
     "metadata": {},
     "output_type": "execute_result"
    }
   ],
   "source": [
    "df['State'].unique()"
   ]
  },
  {
   "cell_type": "code",
   "execution_count": null,
   "metadata": {},
   "outputs": [],
   "source": []
  }
 ],
 "metadata": {
  "interpreter": {
   "hash": "3f1337977d947d4a3f615544b60fe6964aed947043e663b44e1a95a887488653"
  },
  "kernelspec": {
   "display_name": "Python 3.7.1 ('base')",
   "language": "python",
   "name": "python3"
  },
  "language_info": {
   "codemirror_mode": {
    "name": "ipython",
    "version": 3
   },
   "file_extension": ".py",
   "mimetype": "text/x-python",
   "name": "python",
   "nbconvert_exporter": "python",
   "pygments_lexer": "ipython3",
   "version": "3.7.10"
  },
  "orig_nbformat": 4
 },
 "nbformat": 4,
 "nbformat_minor": 2
}
